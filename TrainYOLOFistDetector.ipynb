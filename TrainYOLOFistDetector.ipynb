{
  "nbformat": 4,
  "nbformat_minor": 0,
  "metadata": {
    "colab": {
      "name": "DetectFistWithYOLO.ipynb",
      "provenance": []
    },
    "kernelspec": {
      "name": "python3",
      "display_name": "Python 3"
    },
    "accelerator": "GPU"
  },
  "cells": [
    {
      "cell_type": "code",
      "metadata": {
        "id": "wts3wcGIlSfg",
        "colab_type": "code",
        "colab": {}
      },
      "source": [
        "# Get `darknet` ready\n",
        "!git clone https://github.com/pjreddie/darknet\n",
        "!sed -i 's/CUDNN=0/CUDNN=1/g' darknet/Makefile\n",
        "!sed -i 's/GPU=0/GPU=1/g' darknet/Makefile\n",
        "!cd darknet; make -j20"
      ],
      "execution_count": null,
      "outputs": []
    },
    {
      "cell_type": "code",
      "metadata": {
        "id": "hy70MvwVn_s4",
        "colab_type": "code",
        "colab": {}
      },
      "source": [
        "# Get a pre-trained model\n",
        "# We start training from the pre-trained model\n",
        "!wget https://pjreddie.com/media/files/darknet53.conv.74"
      ],
      "execution_count": null,
      "outputs": []
    },
    {
      "cell_type": "code",
      "metadata": {
        "id": "chdO9_ePqGMp",
        "colab_type": "code",
        "colab": {}
      },
      "source": [
        "# Export dataset\n",
        "# Note: The dataset has to be uploaded to the Google Colab\n",
        "!rm -rf dataset\n",
        "!tar -xf dataset.tar.xz"
      ],
      "execution_count": null,
      "outputs": []
    },
    {
      "cell_type": "code",
      "metadata": {
        "id": "Lu9Utg3YoGq8",
        "colab_type": "code",
        "colab": {}
      },
      "source": [
        "# Train!\n",
        "!cd dataset; /content/darknet/darknet detector train ./custom.data /content/yolov3-tiny_train.cfg /content/darknet53.conv.74 "
      ],
      "execution_count": 4,
      "outputs": []
    }
  ]
}